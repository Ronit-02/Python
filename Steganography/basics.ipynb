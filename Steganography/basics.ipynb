{
 "cells": [
  {
   "cell_type": "code",
   "execution_count": null,
   "metadata": {},
   "outputs": [],
   "source": [
    "img_x = \"../data/x.png\"\n",
    "img_o = \"../data/o.png\""
   ]
  },
  {
   "cell_type": "markdown",
   "metadata": {},
   "source": [
    "Image Objects"
   ]
  },
  {
   "cell_type": "code",
   "execution_count": null,
   "metadata": {},
   "outputs": [],
   "source": [
    "from PIL import Image, ImageChops, ImageFilter\n",
    "\n",
    "# create a PIL Image objects\n",
    "x = Image.open(img_x)\n",
    "o = Image.open(img_o)\n",
    "x"
   ]
  },
  {
   "cell_type": "markdown",
   "metadata": {},
   "source": [
    "Attributes of Image objects"
   ]
  },
  {
   "cell_type": "code",
   "execution_count": null,
   "metadata": {},
   "outputs": [],
   "source": [
    "print('Size: ',x.size)\n",
    "print('Color mode: ',x.mode)"
   ]
  },
  {
   "cell_type": "markdown",
   "metadata": {},
   "source": [
    "Transformations"
   ]
  },
  {
   "cell_type": "code",
   "execution_count": null,
   "metadata": {},
   "outputs": [],
   "source": [
    "from matplotlib import pyplot as plt\n",
    "\n",
    "# plot 2 images one besides the other\n",
    "plt.subplot(121), plt.imshow(x)\n",
    "plt.axis('off')\n",
    "plt.subplot(122), plt.imshow(o)\n",
    "plt.axis('off')\n",
    "\n",
    "# multiply images\n",
    "merged = ImageChops.multiply(x,o)\n",
    "\n",
    "# adding images\n",
    "add = ImageChops.add(x,o)\n",
    "\n",
    "# convert color mode\n",
    "greyscale = x.convert('L')\n",
    "greyscale"
   ]
  },
  {
   "cell_type": "code",
   "execution_count": 22,
   "metadata": {},
   "outputs": [
    {
     "data": {
      "image/png": "[encoded data removed]",
      "text/plain": [
       "<PIL.Image.Image image mode=L size=256x256>"
      ]
     },
     "execution_count": 22,
     "metadata": {},
     "output_type": "execute_result"
    }
   ],
   "source": [
    "# mapping the pixels of the image so we can use them as coordinates\n",
    "pixel = greyscale.load()\n",
    "\n",
    "# a nested loop to parse through all the pixels in the image\n",
    "for row in range(greyscale.size[0]):\n",
    "  for column in range(greyscale.size[1]):\n",
    "    if pixel[row, column] != (255):\n",
    "      pixel[row,column] = (0)\n",
    "\n",
    "greyscale"
   ]
  }
 ],
 "metadata": {
  "kernelspec": {
   "display_name": "Python 3.10.6 64-bit",
   "language": "python",
   "name": "python3"
  },
  "language_info": {
   "codemirror_mode": {
    "name": "ipython",
    "version": 3
   },
   "file_extension": ".py",
   "mimetype": "text/x-python",
   "name": "python",
   "nbconvert_exporter": "python",
   "pygments_lexer": "ipython3",
   "version": "3.10.6"
  },
  "orig_nbformat": 4,
  "vscode": {
   "interpreter": {
    "hash": "107d7b120a5b68773a87d4067e673630b35702e55ebab3138143d08b1c4d7cbc"
   }
  }
 },
 "nbformat": 4,
 "nbformat_minor": 2
}
